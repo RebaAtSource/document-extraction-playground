{
 "cells": [
  {
   "cell_type": "markdown",
   "metadata": {},
   "source": [
    "# SetUp\n",
    "Install the dependencies you need to run the notebook"
   ]
  },
  {
   "cell_type": "code",
   "execution_count": 9,
   "metadata": {},
   "outputs": [],
   "source": [
    "# !brew install poppler tesseract libmagic"
   ]
  },
  {
   "cell_type": "markdown",
   "metadata": {},
   "source": [
    "## Extract the data\n",
    "\n",
    "Extract the elements of the PDF that we will be able to use in the retrieval process. These elements can be: Text, Images, Tables, etc."
   ]
  },
  {
   "cell_type": "markdown",
   "metadata": {},
   "source": [
    "### Partition PDF tables, text, and images"
   ]
  },
  {
   "cell_type": "code",
   "execution_count": null,
   "metadata": {},
   "outputs": [],
   "source": [
    "from unstructured.partition.auto import partition\n",
    "\n",
    "\n",
    "filename = \"invoices/2Modern.pdf\"\n",
    "elements = partition(filename=filename, content_type=\"application/pdf\")\n",
    "print(\"\\n\\n\".join([str(el) for el in elements][:10]))"
   ]
  },
  {
   "cell_type": "code",
   "execution_count": 50,
   "metadata": {},
   "outputs": [],
   "source": [
    "# from unstructured.partition.auto import partition\n",
    "\n",
    "# invoice_path = \"invoices/\"\n",
    "# file_path = invoice_path + '2Modern.pdf'\n",
    "\n",
    "# elements = partition(filename=file_path, content_type=\"application/pdf\")\n",
    "# print(\"\\n\\n\".join([str(el) for el in elements][:10]))\n",
    "\n",
    "from unstructured.partition.pdf import partition_pdf\n",
    "\n",
    "output_path = \"invoices/\"\n",
    "file_path = output_path + '2Modern.pdf'\n",
    "\n",
    "# Reference: https://docs.unstructured.io/open-source/core-functionality/chunking\n",
    "chunks = partition_pdf(\n",
    "    filename=file_path,\n",
    "    infer_table_structure=True,            # extract tables\n",
    "    strategy=\"ocr_only\",                     # mandatory to infer tables\n",
    "\n",
    "    extract_image_block_types=[\"Image\", \"Table\"],   # Add 'Table' to list to extract image of tables\n",
    "    # image_output_dir_path=output_path,   # if None, images and tables will saved in base64\n",
    "\n",
    "    extract_image_block_to_payload=True,   # if true, will extract base64 for API usage\n",
    "\n",
    "    chunking_strategy=\"by_title\",          # or 'basic'\n",
    "    max_characters=10000,                  # defaults to 500\n",
    "    combine_text_under_n_chars=2000,       # defaults to 0\n",
    "    new_after_n_chars=6000,\n",
    "\n",
    "    # extract_images_in_pdf=True,          # deprecated\n",
    ")"
   ]
  },
  {
   "cell_type": "code",
   "execution_count": 51,
   "metadata": {},
   "outputs": [
    {
     "data": {
      "text/plain": [
       "[<unstructured.documents.elements.Title at 0x178c692b0>,\n",
       " <unstructured.documents.elements.Text at 0x178c6a430>,\n",
       " <unstructured.documents.elements.Text at 0x178c684b0>,\n",
       " <unstructured.documents.elements.Title at 0x178c68360>,\n",
       " <unstructured.documents.elements.Title at 0x178c695c0>,\n",
       " <unstructured.documents.elements.Text at 0x178c6a190>,\n",
       " <unstructured.documents.elements.Text at 0x178c68c90>,\n",
       " <unstructured.documents.elements.Title at 0x178c9c440>,\n",
       " <unstructured.documents.elements.Text at 0x178c9d550>,\n",
       " <unstructured.documents.elements.ListItem at 0x178c9fb60>,\n",
       " <unstructured.documents.elements.ListItem at 0x178c9ed60>,\n",
       " <unstructured.documents.elements.ListItem at 0x178c9c2f0>]"
      ]
     },
     "execution_count": 51,
     "metadata": {},
     "output_type": "execute_result"
    }
   ],
   "source": [
    "chunks[0].metadata.orig_elements"
   ]
  },
  {
   "cell_type": "code",
   "execution_count": 53,
   "metadata": {},
   "outputs": [
    {
     "data": {
      "text/plain": [
       "{\"<class 'unstructured.documents.elements.CompositeElement'>\"}"
      ]
     },
     "execution_count": 53,
     "metadata": {},
     "output_type": "execute_result"
    }
   ],
   "source": [
    "set([str(type(el)) for el in chunks])"
   ]
  },
  {
   "cell_type": "code",
   "execution_count": 44,
   "metadata": {},
   "outputs": [
    {
     "name": "stdout",
     "output_type": "stream",
     "text": [
      "Invoice 263048 Quote Name PO#24-DPA3-023 Created Date 3/25/2025\n",
      "None\n"
     ]
    }
   ],
   "source": [
    "from unstructured.partition.pdf import partition_pdf\n",
    "\n",
    "fname = \"invoices/2Modern.pdf\"\n",
    "\n",
    "elements = partition_pdf(filename=fname,\n",
    "                         skip_infer_table_types=False,\n",
    "                         strategy='hi_res',\n",
    "           )\n",
    "\n",
    "tables = [el for el in elements if el.category == \"Table\"]\n",
    "\n",
    "print(tables[0].text)\n",
    "print(tables[1].metadata.text_as_html)"
   ]
  }
 ],
 "metadata": {
  "kernelspec": {
   "display_name": "venv",
   "language": "python",
   "name": "python3"
  },
  "language_info": {
   "codemirror_mode": {
    "name": "ipython",
    "version": 3
   },
   "file_extension": ".py",
   "mimetype": "text/x-python",
   "name": "python",
   "nbconvert_exporter": "python",
   "pygments_lexer": "ipython3",
   "version": "3.13.3"
  }
 },
 "nbformat": 4,
 "nbformat_minor": 2
}
